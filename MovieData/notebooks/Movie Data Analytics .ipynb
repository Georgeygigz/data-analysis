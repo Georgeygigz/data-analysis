{
 "cells": [
  {
   "cell_type": "markdown",
   "metadata": {},
   "source": [
    "# Introduction\n",
    "- This is a movie data analytics. It contains information of 5,000 movies.\n",
    "\n",
    "- Got the Movie dataset from [kaggle](https://www.kaggle.com/sshake/movie-dataset) site \n",
    "\n",
    "## Questions\n",
    "1. The feature associated with the top 10 movies?\n",
    "2. Does higher populality means higher profits?\n",
    "3. Does higher budget mean higher popularity ? Is there a coefficent relationship ?\n",
    "4. Which genres are most popular from year to year?\n",
    "5. Will the runtime affect the vote count and popularity?"
   ]
  },
  {
   "cell_type": "markdown",
   "metadata": {},
   "source": [
    "### Import required libraries"
   ]
  },
  {
   "cell_type": "code",
   "execution_count": 1,
   "metadata": {},
   "outputs": [],
   "source": [
    "import os\n",
    "import numpy as np\n",
    "import pandas as pd\n",
    "import seaborn as sns  \n",
    "import matplotlib.pyplot as plt \n",
    "%matplotlib inline"
   ]
  },
  {
   "cell_type": "markdown",
   "metadata": {},
   "source": [
    "### Data munging\n",
    "- Exploring the data to find out the insight within our data. This includes identifying, the data type, data structure, missing values, duplicates and unuseful columns."
   ]
  },
  {
   "cell_type": "markdown",
   "metadata": {},
   "source": [
    "#### Loading our data"
   ]
  },
  {
   "cell_type": "code",
   "execution_count": 2,
   "metadata": {},
   "outputs": [
    {
     "data": {
      "text/html": [
       "<div>\n",
       "<style scoped>\n",
       "    .dataframe tbody tr th:only-of-type {\n",
       "        vertical-align: middle;\n",
       "    }\n",
       "\n",
       "    .dataframe tbody tr th {\n",
       "        vertical-align: top;\n",
       "    }\n",
       "\n",
       "    .dataframe thead th {\n",
       "        text-align: right;\n",
       "    }\n",
       "</style>\n",
       "<table border=\"1\" class=\"dataframe\">\n",
       "  <thead>\n",
       "    <tr style=\"text-align: right;\">\n",
       "      <th></th>\n",
       "      <th>id</th>\n",
       "      <th>imdb_id</th>\n",
       "      <th>popularity</th>\n",
       "      <th>budget</th>\n",
       "      <th>revenue</th>\n",
       "      <th>original_title</th>\n",
       "      <th>cast</th>\n",
       "      <th>homepage</th>\n",
       "      <th>director</th>\n",
       "      <th>tagline</th>\n",
       "      <th>...</th>\n",
       "      <th>overview</th>\n",
       "      <th>runtime</th>\n",
       "      <th>genres</th>\n",
       "      <th>production_companies</th>\n",
       "      <th>release_date</th>\n",
       "      <th>vote_count</th>\n",
       "      <th>vote_average</th>\n",
       "      <th>release_year</th>\n",
       "      <th>budget_adj</th>\n",
       "      <th>revenue_adj</th>\n",
       "    </tr>\n",
       "  </thead>\n",
       "  <tbody>\n",
       "    <tr>\n",
       "      <td>0</td>\n",
       "      <td>135397</td>\n",
       "      <td>tt0369610</td>\n",
       "      <td>32.985763</td>\n",
       "      <td>150000000</td>\n",
       "      <td>1513528810</td>\n",
       "      <td>Jurassic World</td>\n",
       "      <td>Chris Pratt|Bryce Dallas Howard|Irrfan Khan|Vi...</td>\n",
       "      <td>http://www.jurassicworld.com/</td>\n",
       "      <td>Colin Trevorrow</td>\n",
       "      <td>The park is open.</td>\n",
       "      <td>...</td>\n",
       "      <td>Twenty-two years after the events of Jurassic ...</td>\n",
       "      <td>124.0</td>\n",
       "      <td>Action|Adventure|Science Fiction|Thriller</td>\n",
       "      <td>Universal Studios|Amblin Entertainment|Legenda...</td>\n",
       "      <td>6/9/15</td>\n",
       "      <td>5562.0</td>\n",
       "      <td>6.5</td>\n",
       "      <td>2015.0</td>\n",
       "      <td>1.379999e+08</td>\n",
       "      <td>1.392446e+09</td>\n",
       "    </tr>\n",
       "    <tr>\n",
       "      <td>1</td>\n",
       "      <td>76341</td>\n",
       "      <td>tt1392190</td>\n",
       "      <td>28.419936</td>\n",
       "      <td>150000000</td>\n",
       "      <td>378436354</td>\n",
       "      <td>Mad Max: Fury Road</td>\n",
       "      <td>Tom Hardy|Charlize Theron|Hugh Keays-Byrne|Nic...</td>\n",
       "      <td>http://www.madmaxmovie.com/</td>\n",
       "      <td>George Miller</td>\n",
       "      <td>What a Lovely Day.</td>\n",
       "      <td>...</td>\n",
       "      <td>An apocalyptic story set in the furthest reach...</td>\n",
       "      <td>120.0</td>\n",
       "      <td>Action|Adventure|Science Fiction|Thriller</td>\n",
       "      <td>Village Roadshow Pictures|Kennedy Miller Produ...</td>\n",
       "      <td>5/13/15</td>\n",
       "      <td>6185.0</td>\n",
       "      <td>7.1</td>\n",
       "      <td>2015.0</td>\n",
       "      <td>1.379999e+08</td>\n",
       "      <td>3.481613e+08</td>\n",
       "    </tr>\n",
       "    <tr>\n",
       "      <td>2</td>\n",
       "      <td>262500</td>\n",
       "      <td>tt2908446</td>\n",
       "      <td>13.112507</td>\n",
       "      <td>110000000</td>\n",
       "      <td>295238201</td>\n",
       "      <td>Insurgent</td>\n",
       "      <td>Shailene Woodley|Theo James|Kate Winslet|Ansel...</td>\n",
       "      <td>http://www.thedivergentseries.movie/#insurgent</td>\n",
       "      <td>Robert Schwentke</td>\n",
       "      <td>One Choice Can Destroy You</td>\n",
       "      <td>...</td>\n",
       "      <td>Beatrice Prior must confront her inner demons ...</td>\n",
       "      <td>119.0</td>\n",
       "      <td>Adventure|Science Fiction|Thriller</td>\n",
       "      <td>Summit Entertainment|Mandeville Films|Red Wago...</td>\n",
       "      <td>3/18/15</td>\n",
       "      <td>2480.0</td>\n",
       "      <td>6.3</td>\n",
       "      <td>2015.0</td>\n",
       "      <td>1.012000e+08</td>\n",
       "      <td>2.716190e+08</td>\n",
       "    </tr>\n",
       "    <tr>\n",
       "      <td>3</td>\n",
       "      <td>140607</td>\n",
       "      <td>tt2488496</td>\n",
       "      <td>11.173104</td>\n",
       "      <td>200000000</td>\n",
       "      <td>2068178225</td>\n",
       "      <td>Star Wars: The Force Awakens</td>\n",
       "      <td>Harrison Ford|Mark Hamill|Carrie Fisher|Adam D...</td>\n",
       "      <td>http://www.starwars.com/films/star-wars-episod...</td>\n",
       "      <td>J.J. Abrams</td>\n",
       "      <td>Every generation has a story.</td>\n",
       "      <td>...</td>\n",
       "      <td>Thirty years after defeating the Galactic Empi...</td>\n",
       "      <td>136.0</td>\n",
       "      <td>Action|Adventure|Science Fiction|Fantasy</td>\n",
       "      <td>Lucasfilm|Truenorth Productions|Bad Robot</td>\n",
       "      <td>12/15/15</td>\n",
       "      <td>5292.0</td>\n",
       "      <td>7.5</td>\n",
       "      <td>2015.0</td>\n",
       "      <td>1.839999e+08</td>\n",
       "      <td>1.902723e+09</td>\n",
       "    </tr>\n",
       "    <tr>\n",
       "      <td>4</td>\n",
       "      <td>168259</td>\n",
       "      <td>tt2820852</td>\n",
       "      <td>9.335014</td>\n",
       "      <td>190000000</td>\n",
       "      <td>1506249360</td>\n",
       "      <td>Furious 7</td>\n",
       "      <td>Vin Diesel|Paul Walker|Jason Statham|Michelle ...</td>\n",
       "      <td>http://www.furious7.com/</td>\n",
       "      <td>James Wan</td>\n",
       "      <td>Vengeance Hits Home</td>\n",
       "      <td>...</td>\n",
       "      <td>Deckard Shaw seeks revenge against Dominic Tor...</td>\n",
       "      <td>137.0</td>\n",
       "      <td>Action|Crime|Thriller</td>\n",
       "      <td>Universal Pictures|Original Film|Media Rights ...</td>\n",
       "      <td>4/1/15</td>\n",
       "      <td>2947.0</td>\n",
       "      <td>7.3</td>\n",
       "      <td>2015.0</td>\n",
       "      <td>1.747999e+08</td>\n",
       "      <td>1.385749e+09</td>\n",
       "    </tr>\n",
       "    <tr>\n",
       "      <td>...</td>\n",
       "      <td>...</td>\n",
       "      <td>...</td>\n",
       "      <td>...</td>\n",
       "      <td>...</td>\n",
       "      <td>...</td>\n",
       "      <td>...</td>\n",
       "      <td>...</td>\n",
       "      <td>...</td>\n",
       "      <td>...</td>\n",
       "      <td>...</td>\n",
       "      <td>...</td>\n",
       "      <td>...</td>\n",
       "      <td>...</td>\n",
       "      <td>...</td>\n",
       "      <td>...</td>\n",
       "      <td>...</td>\n",
       "      <td>...</td>\n",
       "      <td>...</td>\n",
       "      <td>...</td>\n",
       "      <td>...</td>\n",
       "      <td>...</td>\n",
       "    </tr>\n",
       "    <tr>\n",
       "      <td>5009</td>\n",
       "      <td>26264</td>\n",
       "      <td>tt0322389</td>\n",
       "      <td>0.979077</td>\n",
       "      <td>0</td>\n",
       "      <td>0</td>\n",
       "      <td>George of the Jungle 2</td>\n",
       "      <td>Christopher Showerman|Julie Benz|Thomas Haden ...</td>\n",
       "      <td>NaN</td>\n",
       "      <td>David Grossman</td>\n",
       "      <td>Watch Out For That Sequel!</td>\n",
       "      <td>...</td>\n",
       "      <td>George and Ursula now have a son, George Junio...</td>\n",
       "      <td>87.0</td>\n",
       "      <td>Adventure|Comedy|Family</td>\n",
       "      <td>Walt Disney Pictures</td>\n",
       "      <td>8/18/03</td>\n",
       "      <td>55.0</td>\n",
       "      <td>4.3</td>\n",
       "      <td>2003.0</td>\n",
       "      <td>0.000000e+00</td>\n",
       "      <td>0.000000e+00</td>\n",
       "    </tr>\n",
       "    <tr>\n",
       "      <td>5010</td>\n",
       "      <td>9373</td>\n",
       "      <td>tt0324216</td>\n",
       "      <td>0.920571</td>\n",
       "      <td>9500000</td>\n",
       "      <td>107071655</td>\n",
       "      <td>The Texas Chainsaw Massacre</td>\n",
       "      <td>Jessica Biel|Jonathan Tucker|Erica Leerhsen|Mi...</td>\n",
       "      <td>NaN</td>\n",
       "      <td>Marcus Nispel</td>\n",
       "      <td>What you know about fear... doesn't even come ...</td>\n",
       "      <td>...</td>\n",
       "      <td>After picking up a traumatized young hitchhike...</td>\n",
       "      <td>98.0</td>\n",
       "      <td>Horror</td>\n",
       "      <td>New Line Cinema|Next Entertainment|Platinum Du...</td>\n",
       "      <td>10/17/03</td>\n",
       "      <td>333.0</td>\n",
       "      <td>6.0</td>\n",
       "      <td>2003.0</td>\n",
       "      <td>1.126085e+07</td>\n",
       "      <td>1.269177e+08</td>\n",
       "    </tr>\n",
       "    <tr>\n",
       "      <td>5011</td>\n",
       "      <td>1647</td>\n",
       "      <td>tt0292506</td>\n",
       "      <td>0.894267</td>\n",
       "      <td>0</td>\n",
       "      <td>101191884</td>\n",
       "      <td>The Recruit</td>\n",
       "      <td>Al Pacino|Colin Farrell|Bridget Moynahan|Gabri...</td>\n",
       "      <td>NaN</td>\n",
       "      <td>Roger Donaldson</td>\n",
       "      <td>Trust. Betrayal. Deception. In the C.I.A. noth...</td>\n",
       "      <td>...</td>\n",
       "      <td>A brilliant young CIA trainee is asked by his ...</td>\n",
       "      <td>115.0</td>\n",
       "      <td>Action|Thriller|Crime|Drama</td>\n",
       "      <td>Spyglass Entertainment|Touchstone Pictures</td>\n",
       "      <td>1/25/03</td>\n",
       "      <td>290.0</td>\n",
       "      <td>5.9</td>\n",
       "      <td>2003.0</td>\n",
       "      <td>0.000000e+00</td>\n",
       "      <td>1.199481e+08</td>\n",
       "    </tr>\n",
       "    <tr>\n",
       "      <td>5012</td>\n",
       "      <td>11007</td>\n",
       "      <td>tt0349205</td>\n",
       "      <td>0.876158</td>\n",
       "      <td>40000000</td>\n",
       "      <td>190212113</td>\n",
       "      <td>Cheaper by the Dozen</td>\n",
       "      <td>Steve Martin|Bonnie Hunt|Piper Perabo|Tom Well...</td>\n",
       "      <td>NaN</td>\n",
       "      <td>Shawn Levy</td>\n",
       "      <td>Growing pains? They've got twelve of them!</td>\n",
       "      <td>...</td>\n",
       "      <td>The Baker brood moves to Chicago after patriar...</td>\n",
       "      <td>98.0</td>\n",
       "      <td>Comedy|Drama|Family</td>\n",
       "      <td>Twentieth Century Fox Film Corporation|Robert ...</td>\n",
       "      <td>12/24/03</td>\n",
       "      <td>357.0</td>\n",
       "      <td>5.8</td>\n",
       "      <td>2003.0</td>\n",
       "      <td>4.741411e+07</td>\n",
       "      <td>2.254684e+08</td>\n",
       "    </tr>\n",
       "    <tr>\n",
       "      <td>5013</td>\n",
       "      <td>2289</td>\n",
       "      <td>tt0159365</td>\n",
       "      <td>0.875248</td>\n",
       "      <td>79000000</td>\n",
       "      <td>173013509</td>\n",
       "      <td>Cold Mountain</td>\n",
       "      <td>Jude Law|Nicole Kidman|RenÃ©e Zellweger|Eileen...</td>\n",
       "      <td>NaN</td>\n",
       "      <td>Anthony Minghella</td>\n",
       "      <td>Find the strength. Find the</td>\n",
       "      <td>...</td>\n",
       "      <td>NaN</td>\n",
       "      <td>NaN</td>\n",
       "      <td>NaN</td>\n",
       "      <td>NaN</td>\n",
       "      <td>NaN</td>\n",
       "      <td>NaN</td>\n",
       "      <td>NaN</td>\n",
       "      <td>NaN</td>\n",
       "      <td>NaN</td>\n",
       "      <td>NaN</td>\n",
       "    </tr>\n",
       "  </tbody>\n",
       "</table>\n",
       "<p>5014 rows × 21 columns</p>\n",
       "</div>"
      ],
      "text/plain": [
       "          id    imdb_id  popularity     budget     revenue  \\\n",
       "0     135397  tt0369610   32.985763  150000000  1513528810   \n",
       "1      76341  tt1392190   28.419936  150000000   378436354   \n",
       "2     262500  tt2908446   13.112507  110000000   295238201   \n",
       "3     140607  tt2488496   11.173104  200000000  2068178225   \n",
       "4     168259  tt2820852    9.335014  190000000  1506249360   \n",
       "...      ...        ...         ...        ...         ...   \n",
       "5009   26264  tt0322389    0.979077          0           0   \n",
       "5010    9373  tt0324216    0.920571    9500000   107071655   \n",
       "5011    1647  tt0292506    0.894267          0   101191884   \n",
       "5012   11007  tt0349205    0.876158   40000000   190212113   \n",
       "5013    2289  tt0159365    0.875248   79000000   173013509   \n",
       "\n",
       "                    original_title  \\\n",
       "0                   Jurassic World   \n",
       "1               Mad Max: Fury Road   \n",
       "2                        Insurgent   \n",
       "3     Star Wars: The Force Awakens   \n",
       "4                        Furious 7   \n",
       "...                            ...   \n",
       "5009        George of the Jungle 2   \n",
       "5010   The Texas Chainsaw Massacre   \n",
       "5011                   The Recruit   \n",
       "5012          Cheaper by the Dozen   \n",
       "5013                 Cold Mountain   \n",
       "\n",
       "                                                   cast  \\\n",
       "0     Chris Pratt|Bryce Dallas Howard|Irrfan Khan|Vi...   \n",
       "1     Tom Hardy|Charlize Theron|Hugh Keays-Byrne|Nic...   \n",
       "2     Shailene Woodley|Theo James|Kate Winslet|Ansel...   \n",
       "3     Harrison Ford|Mark Hamill|Carrie Fisher|Adam D...   \n",
       "4     Vin Diesel|Paul Walker|Jason Statham|Michelle ...   \n",
       "...                                                 ...   \n",
       "5009  Christopher Showerman|Julie Benz|Thomas Haden ...   \n",
       "5010  Jessica Biel|Jonathan Tucker|Erica Leerhsen|Mi...   \n",
       "5011  Al Pacino|Colin Farrell|Bridget Moynahan|Gabri...   \n",
       "5012  Steve Martin|Bonnie Hunt|Piper Perabo|Tom Well...   \n",
       "5013  Jude Law|Nicole Kidman|RenÃ©e Zellweger|Eileen...   \n",
       "\n",
       "                                               homepage           director  \\\n",
       "0                         http://www.jurassicworld.com/    Colin Trevorrow   \n",
       "1                           http://www.madmaxmovie.com/      George Miller   \n",
       "2        http://www.thedivergentseries.movie/#insurgent   Robert Schwentke   \n",
       "3     http://www.starwars.com/films/star-wars-episod...        J.J. Abrams   \n",
       "4                              http://www.furious7.com/          James Wan   \n",
       "...                                                 ...                ...   \n",
       "5009                                                NaN     David Grossman   \n",
       "5010                                                NaN      Marcus Nispel   \n",
       "5011                                                NaN    Roger Donaldson   \n",
       "5012                                                NaN         Shawn Levy   \n",
       "5013                                                NaN  Anthony Minghella   \n",
       "\n",
       "                                                tagline  ...  \\\n",
       "0                                     The park is open.  ...   \n",
       "1                                    What a Lovely Day.  ...   \n",
       "2                            One Choice Can Destroy You  ...   \n",
       "3                         Every generation has a story.  ...   \n",
       "4                                   Vengeance Hits Home  ...   \n",
       "...                                                 ...  ...   \n",
       "5009                         Watch Out For That Sequel!  ...   \n",
       "5010  What you know about fear... doesn't even come ...  ...   \n",
       "5011  Trust. Betrayal. Deception. In the C.I.A. noth...  ...   \n",
       "5012         Growing pains? They've got twelve of them!  ...   \n",
       "5013                        Find the strength. Find the  ...   \n",
       "\n",
       "                                               overview runtime  \\\n",
       "0     Twenty-two years after the events of Jurassic ...   124.0   \n",
       "1     An apocalyptic story set in the furthest reach...   120.0   \n",
       "2     Beatrice Prior must confront her inner demons ...   119.0   \n",
       "3     Thirty years after defeating the Galactic Empi...   136.0   \n",
       "4     Deckard Shaw seeks revenge against Dominic Tor...   137.0   \n",
       "...                                                 ...     ...   \n",
       "5009  George and Ursula now have a son, George Junio...    87.0   \n",
       "5010  After picking up a traumatized young hitchhike...    98.0   \n",
       "5011  A brilliant young CIA trainee is asked by his ...   115.0   \n",
       "5012  The Baker brood moves to Chicago after patriar...    98.0   \n",
       "5013                                                NaN     NaN   \n",
       "\n",
       "                                         genres  \\\n",
       "0     Action|Adventure|Science Fiction|Thriller   \n",
       "1     Action|Adventure|Science Fiction|Thriller   \n",
       "2            Adventure|Science Fiction|Thriller   \n",
       "3      Action|Adventure|Science Fiction|Fantasy   \n",
       "4                         Action|Crime|Thriller   \n",
       "...                                         ...   \n",
       "5009                    Adventure|Comedy|Family   \n",
       "5010                                     Horror   \n",
       "5011                Action|Thriller|Crime|Drama   \n",
       "5012                        Comedy|Drama|Family   \n",
       "5013                                        NaN   \n",
       "\n",
       "                                   production_companies release_date  \\\n",
       "0     Universal Studios|Amblin Entertainment|Legenda...       6/9/15   \n",
       "1     Village Roadshow Pictures|Kennedy Miller Produ...      5/13/15   \n",
       "2     Summit Entertainment|Mandeville Films|Red Wago...      3/18/15   \n",
       "3             Lucasfilm|Truenorth Productions|Bad Robot     12/15/15   \n",
       "4     Universal Pictures|Original Film|Media Rights ...       4/1/15   \n",
       "...                                                 ...          ...   \n",
       "5009                               Walt Disney Pictures      8/18/03   \n",
       "5010  New Line Cinema|Next Entertainment|Platinum Du...     10/17/03   \n",
       "5011         Spyglass Entertainment|Touchstone Pictures      1/25/03   \n",
       "5012  Twentieth Century Fox Film Corporation|Robert ...     12/24/03   \n",
       "5013                                                NaN          NaN   \n",
       "\n",
       "     vote_count  vote_average  release_year    budget_adj   revenue_adj  \n",
       "0        5562.0           6.5        2015.0  1.379999e+08  1.392446e+09  \n",
       "1        6185.0           7.1        2015.0  1.379999e+08  3.481613e+08  \n",
       "2        2480.0           6.3        2015.0  1.012000e+08  2.716190e+08  \n",
       "3        5292.0           7.5        2015.0  1.839999e+08  1.902723e+09  \n",
       "4        2947.0           7.3        2015.0  1.747999e+08  1.385749e+09  \n",
       "...         ...           ...           ...           ...           ...  \n",
       "5009       55.0           4.3        2003.0  0.000000e+00  0.000000e+00  \n",
       "5010      333.0           6.0        2003.0  1.126085e+07  1.269177e+08  \n",
       "5011      290.0           5.9        2003.0  0.000000e+00  1.199481e+08  \n",
       "5012      357.0           5.8        2003.0  4.741411e+07  2.254684e+08  \n",
       "5013        NaN           NaN           NaN           NaN           NaN  \n",
       "\n",
       "[5014 rows x 21 columns]"
      ]
     },
     "execution_count": 2,
     "metadata": {},
     "output_type": "execute_result"
    }
   ],
   "source": [
    "movie_raw_data = os.path.join(os.path.pardir,'data','raw',\"movie-data.csv\")\n",
    "movie_raw_data\n",
    "movie_data_frame = pd.read_csv(movie_raw_data)\n",
    "movie_data_frame"
   ]
  },
  {
   "cell_type": "code",
   "execution_count": 3,
   "metadata": {},
   "outputs": [
    {
     "data": {
      "text/plain": [
       "(5014, 21)"
      ]
     },
     "execution_count": 3,
     "metadata": {},
     "output_type": "execute_result"
    }
   ],
   "source": [
    "# checking the rows and columns of our dataset respectively\n",
    "movie_data_frame.shape"
   ]
  },
  {
   "cell_type": "code",
   "execution_count": 4,
   "metadata": {},
   "outputs": [
    {
     "data": {
      "text/plain": [
       "id                        int64\n",
       "imdb_id                  object\n",
       "popularity              float64\n",
       "budget                    int64\n",
       "revenue                   int64\n",
       "original_title           object\n",
       "cast                     object\n",
       "homepage                 object\n",
       "director                 object\n",
       "tagline                  object\n",
       "keywords                 object\n",
       "overview                 object\n",
       "runtime                 float64\n",
       "genres                   object\n",
       "production_companies     object\n",
       "release_date             object\n",
       "vote_count              float64\n",
       "vote_average            float64\n",
       "release_year            float64\n",
       "budget_adj              float64\n",
       "revenue_adj             float64\n",
       "dtype: object"
      ]
     },
     "execution_count": 4,
     "metadata": {},
     "output_type": "execute_result"
    }
   ],
   "source": [
    " # check datatypes to see if there are some wrongly categorized types\n",
    "movie_data_frame.dtypes"
   ]
  },
  {
   "cell_type": "code",
   "execution_count": 5,
   "metadata": {},
   "outputs": [
    {
     "name": "stdout",
     "output_type": "stream",
     "text": [
      "<class 'pandas.core.frame.DataFrame'>\n",
      "RangeIndex: 5014 entries, 0 to 5013\n",
      "Data columns (total 21 columns):\n",
      "id                      5014 non-null int64\n",
      "imdb_id                 5007 non-null object\n",
      "popularity              5014 non-null float64\n",
      "budget                  5014 non-null int64\n",
      "revenue                 5014 non-null int64\n",
      "original_title          5014 non-null object\n",
      "cast                    4964 non-null object\n",
      "homepage                2008 non-null object\n",
      "director                4982 non-null object\n",
      "tagline                 3534 non-null object\n",
      "keywords                4110 non-null object\n",
      "overview                5009 non-null object\n",
      "runtime                 5013 non-null float64\n",
      "genres                  5000 non-null object\n",
      "production_companies    4478 non-null object\n",
      "release_date            5013 non-null object\n",
      "vote_count              5013 non-null float64\n",
      "vote_average            5013 non-null float64\n",
      "release_year            5013 non-null float64\n",
      "budget_adj              5013 non-null float64\n",
      "revenue_adj             5013 non-null float64\n",
      "dtypes: float64(7), int64(3), object(11)\n",
      "memory usage: 822.7+ KB\n"
     ]
    }
   ],
   "source": [
    "# check the sum of all columns with none null values\n",
    "movie_data_frame.info()"
   ]
  },
  {
   "cell_type": "code",
   "execution_count": 6,
   "metadata": {},
   "outputs": [
    {
     "data": {
      "text/html": [
       "<div>\n",
       "<style scoped>\n",
       "    .dataframe tbody tr th:only-of-type {\n",
       "        vertical-align: middle;\n",
       "    }\n",
       "\n",
       "    .dataframe tbody tr th {\n",
       "        vertical-align: top;\n",
       "    }\n",
       "\n",
       "    .dataframe thead th {\n",
       "        text-align: right;\n",
       "    }\n",
       "</style>\n",
       "<table border=\"1\" class=\"dataframe\">\n",
       "  <thead>\n",
       "    <tr style=\"text-align: right;\">\n",
       "      <th></th>\n",
       "      <th>id</th>\n",
       "      <th>popularity</th>\n",
       "      <th>budget</th>\n",
       "      <th>revenue</th>\n",
       "      <th>runtime</th>\n",
       "      <th>vote_count</th>\n",
       "      <th>vote_average</th>\n",
       "      <th>release_year</th>\n",
       "      <th>budget_adj</th>\n",
       "      <th>revenue_adj</th>\n",
       "    </tr>\n",
       "  </thead>\n",
       "  <tbody>\n",
       "    <tr>\n",
       "      <td>count</td>\n",
       "      <td>5014.000000</td>\n",
       "      <td>5014.000000</td>\n",
       "      <td>5.014000e+03</td>\n",
       "      <td>5.014000e+03</td>\n",
       "      <td>5013.000000</td>\n",
       "      <td>5013.000000</td>\n",
       "      <td>5013.000000</td>\n",
       "      <td>5013.000000</td>\n",
       "      <td>5.013000e+03</td>\n",
       "      <td>5.013000e+03</td>\n",
       "    </tr>\n",
       "    <tr>\n",
       "      <td>mean</td>\n",
       "      <td>103926.261468</td>\n",
       "      <td>0.738429</td>\n",
       "      <td>1.637831e+07</td>\n",
       "      <td>4.459922e+07</td>\n",
       "      <td>100.088171</td>\n",
       "      <td>266.840016</td>\n",
       "      <td>5.920407</td>\n",
       "      <td>2008.821664</td>\n",
       "      <td>1.732822e+07</td>\n",
       "      <td>4.766369e+07</td>\n",
       "    </tr>\n",
       "    <tr>\n",
       "      <td>std</td>\n",
       "      <td>110376.007140</td>\n",
       "      <td>1.291184</td>\n",
       "      <td>3.496689e+07</td>\n",
       "      <td>1.366465e+08</td>\n",
       "      <td>34.872922</td>\n",
       "      <td>700.139940</td>\n",
       "      <td>0.984000</td>\n",
       "      <td>6.339311</td>\n",
       "      <td>3.616983e+07</td>\n",
       "      <td>1.468173e+08</td>\n",
       "    </tr>\n",
       "    <tr>\n",
       "      <td>min</td>\n",
       "      <td>11.000000</td>\n",
       "      <td>0.001317</td>\n",
       "      <td>0.000000e+00</td>\n",
       "      <td>0.000000e+00</td>\n",
       "      <td>0.000000</td>\n",
       "      <td>10.000000</td>\n",
       "      <td>2.000000</td>\n",
       "      <td>1977.000000</td>\n",
       "      <td>0.000000e+00</td>\n",
       "      <td>0.000000e+00</td>\n",
       "    </tr>\n",
       "    <tr>\n",
       "      <td>25%</td>\n",
       "      <td>16881.750000</td>\n",
       "      <td>0.206441</td>\n",
       "      <td>0.000000e+00</td>\n",
       "      <td>0.000000e+00</td>\n",
       "      <td>90.000000</td>\n",
       "      <td>18.000000</td>\n",
       "      <td>5.300000</td>\n",
       "      <td>2008.000000</td>\n",
       "      <td>0.000000e+00</td>\n",
       "      <td>0.000000e+00</td>\n",
       "    </tr>\n",
       "    <tr>\n",
       "      <td>50%</td>\n",
       "      <td>52137.500000</td>\n",
       "      <td>0.394369</td>\n",
       "      <td>0.000000e+00</td>\n",
       "      <td>0.000000e+00</td>\n",
       "      <td>97.000000</td>\n",
       "      <td>42.000000</td>\n",
       "      <td>6.000000</td>\n",
       "      <td>2010.000000</td>\n",
       "      <td>0.000000e+00</td>\n",
       "      <td>0.000000e+00</td>\n",
       "    </tr>\n",
       "    <tr>\n",
       "      <td>75%</td>\n",
       "      <td>171411.000000</td>\n",
       "      <td>0.786107</td>\n",
       "      <td>1.600000e+07</td>\n",
       "      <td>1.870594e+07</td>\n",
       "      <td>109.000000</td>\n",
       "      <td>182.000000</td>\n",
       "      <td>6.600000</td>\n",
       "      <td>2014.000000</td>\n",
       "      <td>1.823016e+07</td>\n",
       "      <td>2.105926e+07</td>\n",
       "    </tr>\n",
       "    <tr>\n",
       "      <td>max</td>\n",
       "      <td>417859.000000</td>\n",
       "      <td>32.985763</td>\n",
       "      <td>4.250000e+08</td>\n",
       "      <td>2.781506e+09</td>\n",
       "      <td>900.000000</td>\n",
       "      <td>9767.000000</td>\n",
       "      <td>9.200000</td>\n",
       "      <td>2015.000000</td>\n",
       "      <td>4.250000e+08</td>\n",
       "      <td>2.827124e+09</td>\n",
       "    </tr>\n",
       "  </tbody>\n",
       "</table>\n",
       "</div>"
      ],
      "text/plain": [
       "                  id   popularity        budget       revenue      runtime  \\\n",
       "count    5014.000000  5014.000000  5.014000e+03  5.014000e+03  5013.000000   \n",
       "mean   103926.261468     0.738429  1.637831e+07  4.459922e+07   100.088171   \n",
       "std    110376.007140     1.291184  3.496689e+07  1.366465e+08    34.872922   \n",
       "min        11.000000     0.001317  0.000000e+00  0.000000e+00     0.000000   \n",
       "25%     16881.750000     0.206441  0.000000e+00  0.000000e+00    90.000000   \n",
       "50%     52137.500000     0.394369  0.000000e+00  0.000000e+00    97.000000   \n",
       "75%    171411.000000     0.786107  1.600000e+07  1.870594e+07   109.000000   \n",
       "max    417859.000000    32.985763  4.250000e+08  2.781506e+09   900.000000   \n",
       "\n",
       "        vote_count  vote_average  release_year    budget_adj   revenue_adj  \n",
       "count  5013.000000   5013.000000   5013.000000  5.013000e+03  5.013000e+03  \n",
       "mean    266.840016      5.920407   2008.821664  1.732822e+07  4.766369e+07  \n",
       "std     700.139940      0.984000      6.339311  3.616983e+07  1.468173e+08  \n",
       "min      10.000000      2.000000   1977.000000  0.000000e+00  0.000000e+00  \n",
       "25%      18.000000      5.300000   2008.000000  0.000000e+00  0.000000e+00  \n",
       "50%      42.000000      6.000000   2010.000000  0.000000e+00  0.000000e+00  \n",
       "75%     182.000000      6.600000   2014.000000  1.823016e+07  2.105926e+07  \n",
       "max    9767.000000      9.200000   2015.000000  4.250000e+08  2.827124e+09  "
      ]
     },
     "execution_count": 6,
     "metadata": {},
     "output_type": "execute_result"
    }
   ],
   "source": [
    "# numerical values for this data \n",
    "movie_data_frame.describe()"
   ]
  },
  {
   "cell_type": "code",
   "execution_count": 7,
   "metadata": {},
   "outputs": [
    {
     "data": {
      "text/plain": [
       "id                         0\n",
       "imdb_id                    7\n",
       "popularity                 0\n",
       "budget                     0\n",
       "revenue                    0\n",
       "original_title             0\n",
       "cast                      50\n",
       "homepage                3006\n",
       "director                  32\n",
       "tagline                 1480\n",
       "keywords                 904\n",
       "overview                   5\n",
       "runtime                    1\n",
       "genres                    14\n",
       "production_companies     536\n",
       "release_date               1\n",
       "vote_count                 1\n",
       "vote_average               1\n",
       "release_year               1\n",
       "budget_adj                 1\n",
       "revenue_adj                1\n",
       "dtype: int64"
      ]
     },
     "execution_count": 7,
     "metadata": {},
     "output_type": "execute_result"
    }
   ],
   "source": [
    "# count all non rows with null values in certain columns\n",
    "movie_data_frame.isnull().sum()"
   ]
  },
  {
   "cell_type": "code",
   "execution_count": 8,
   "metadata": {},
   "outputs": [
    {
     "data": {
      "text/plain": [
       "id                      5013\n",
       "imdb_id                 5006\n",
       "popularity              5001\n",
       "budget                   343\n",
       "revenue                 2062\n",
       "original_title          4972\n",
       "cast                    4942\n",
       "homepage                1988\n",
       "director                3263\n",
       "tagline                 3516\n",
       "keywords                3835\n",
       "overview                5004\n",
       "runtime                  214\n",
       "genres                  1248\n",
       "production_companies    3808\n",
       "release_date            2379\n",
       "vote_count               953\n",
       "vote_average              69\n",
       "release_year              13\n",
       "budget_adj              1040\n",
       "revenue_adj             2077\n",
       "dtype: int64"
      ]
     },
     "execution_count": 8,
     "metadata": {},
     "output_type": "execute_result"
    }
   ],
   "source": [
    "# check each columns number of unique values\n",
    "movie_data_frame.nunique()"
   ]
  },
  {
   "cell_type": "code",
   "execution_count": 9,
   "metadata": {},
   "outputs": [],
   "source": [
    "# Drop unnecessary columns\n",
    "# inplace=True ensures the output is not displayed\n",
    "movie_data_frame.drop(['id','imdb_id','overview','homepage'],axis=1, inplace=True)"
   ]
  },
  {
   "cell_type": "code",
   "execution_count": 10,
   "metadata": {},
   "outputs": [],
   "source": [
    "# handle missing data\n",
    "movie_data_frame['cast'].fillna('missing',inplace=True)\n",
    "movie_data_frame['director'].fillna('missing',inplace=True)\n",
    "movie_data_frame['tagline'].fillna('missing',inplace=True)\n",
    "movie_data_frame['keywords'].fillna('missing',inplace=True)\n",
    "movie_data_frame['genres'].fillna('missing',inplace=True)\n",
    "movie_data_frame['production_companies'].fillna('missing',inplace=True)\n",
    "movie_data_frame['budget'] = movie_data_frame['budget'].replace(0, np.NAN) "
   ]
  },
  {
   "cell_type": "code",
   "execution_count": 11,
   "metadata": {},
   "outputs": [
    {
     "data": {
      "text/plain": [
       "popularity                 0\n",
       "budget                  2698\n",
       "revenue                    0\n",
       "original_title             0\n",
       "cast                       0\n",
       "director                   0\n",
       "tagline                    0\n",
       "keywords                   0\n",
       "runtime                    1\n",
       "genres                     0\n",
       "production_companies       0\n",
       "release_date               1\n",
       "vote_count                 1\n",
       "vote_average               1\n",
       "release_year               1\n",
       "budget_adj                 1\n",
       "revenue_adj                1\n",
       "dtype: int64"
      ]
     },
     "execution_count": 11,
     "metadata": {},
     "output_type": "execute_result"
    }
   ],
   "source": [
    "# confirm that no field contain null variable\n",
    "movie_data_frame.isnull().sum()"
   ]
  },
  {
   "cell_type": "code",
   "execution_count": 12,
   "metadata": {},
   "outputs": [
    {
     "data": {
      "text/plain": [
       "1"
      ]
     },
     "execution_count": 12,
     "metadata": {},
     "output_type": "execute_result"
    }
   ],
   "source": [
    "# check if there are possible duplicates\n",
    "movie_data_frame.duplicated().sum()"
   ]
  },
  {
   "cell_type": "code",
   "execution_count": 13,
   "metadata": {},
   "outputs": [
    {
     "data": {
      "text/plain": [
       "0"
      ]
     },
     "execution_count": 13,
     "metadata": {},
     "output_type": "execute_result"
    }
   ],
   "source": [
    "# drop duplicate\n",
    "movie_data_frame.drop_duplicates(inplace=True)\n",
    "# confirm again \n",
    "movie_data_frame.duplicated().sum()"
   ]
  },
  {
   "cell_type": "markdown",
   "metadata": {},
   "source": [
    "## Visualization"
   ]
  },
  {
   "cell_type": "code",
   "execution_count": 14,
   "metadata": {},
   "outputs": [
    {
     "data": {
      "image/png": "[encoded data removed]",
      "text/plain": [
       "<Figure size 1080x1080 with 9 Axes>"
      ]
     },
     "metadata": {
      "needs_background": "light"
     },
     "output_type": "display_data"
    }
   ],
   "source": [
    "# visulaize using hitogram\n",
    "movie_data_frame.hist(figsize=(15,15));"
   ]
  },
  {
   "cell_type": "markdown",
   "metadata": {},
   "source": [
    "### `Question 1`. Does higher budget mean higher popularity ? Is there a coefficent relationship ?"
   ]
  },
  {
   "cell_type": "code",
   "execution_count": 15,
   "metadata": {},
   "outputs": [
    {
     "data": {
      "image/png": "[encoded data removed]",
      "text/plain": [
       "<Figure size 432x288 with 1 Axes>"
      ]
     },
     "metadata": {
      "needs_background": "light"
     },
     "output_type": "display_data"
    }
   ],
   "source": [
    "x = movie_data_frame['budget']\n",
    "y = movie_data_frame['popularity']\n",
    "plt.scatter(x,y)\n",
    "plt.title('Average Popularity by Different budget',fontsize=12)\n",
    "plt.xlabel('budget',fontsize=10)\n",
    "plt.ylabel('popularity',fontsize=10);"
   ]
  },
  {
   "cell_type": "markdown",
   "metadata": {},
   "source": [
    "#### Lets use another approach"
   ]
  },
  {
   "cell_type": "code",
   "execution_count": 16,
   "metadata": {},
   "outputs": [],
   "source": [
    "# get the meadian budget\n",
    "median_budget = movie_data_frame['budget'].median()\n",
    "low_budget = movie_data_frame.query('budget < {}'.format(median_budget))\n",
    "high_budget = movie_data_frame.query('budget > {}'.format(median_budget))"
   ]
  },
  {
   "cell_type": "code",
   "execution_count": 17,
   "metadata": {},
   "outputs": [
    {
     "data": {
      "text/plain": [
       "0.6674606273291929"
      ]
     },
     "execution_count": 17,
     "metadata": {},
     "output_type": "execute_result"
    }
   ],
   "source": [
    "# chek the mean population with respect to the budget\n",
    "mean_population_low_budget = low_budget['popularity'].mean()\n",
    "mean_population_high_budget = high_budget['popularity'].mean()\n",
    "mean_population_high_budget\n",
    "mean_population_low_budget"
   ]
  },
  {
   "cell_type": "code",
   "execution_count": 18,
   "metadata": {},
   "outputs": [
    {
     "data": {
      "text/plain": [
       "Text(0, 0.5, 'Average Popularity')"
      ]
     },
     "execution_count": 18,
     "metadata": {},
     "output_type": "execute_result"
    },
    {
     "data": {
      "image/png": "[encoded data removed]",
      "text/plain": [
       "<Figure size 432x288 with 1 Axes>"
      ]
     },
     "metadata": {
      "needs_background": "light"
     },
     "output_type": "display_data"
    }
   ],
   "source": [
    "#create a chat bar\n",
    "locations = [1,2]\n",
    "heights = [mean_population_low_budget, mean_population_high_budget]\n",
    "labels = ['low','high']\n",
    "plt.bar(locations,heights, tick_label=labels)\n",
    "plt.title('Average Popularity by Different Budget')\n",
    "plt.xlabel('Budgets')\n",
    "plt.ylabel('Average Popularity')"
   ]
  },
  {
   "cell_type": "code",
   "execution_count": 19,
   "metadata": {},
   "outputs": [
    {
     "data": {
      "text/plain": [
       "62.30027987544505"
      ]
     },
     "execution_count": 19,
     "metadata": {},
     "output_type": "execute_result"
    }
   ],
   "source": [
    "# conclution\n",
    "dif_mean_population = mean_population_high_budget-mean_population_low_budget\n",
    "increse_percentage = (dif_mean_population/mean_population_high_budget)*100\n",
    "increse_percentage"
   ]
  },
  {
   "cell_type": "markdown",
   "metadata": {},
   "source": [
    "#### `Conclusion`\n",
    "- Hight budget movies are likely to have high popularity"
   ]
  },
  {
   "cell_type": "markdown",
   "metadata": {},
   "source": [
    "### `Question 2`. What  length will receive the highest popularity?"
   ]
  },
  {
   "cell_type": "code",
   "execution_count": 20,
   "metadata": {},
   "outputs": [],
   "source": [
    "# median_length = movie_data_frame['runtime'].median()\n",
    "median_length = movie_data_frame.query('runtime < {}'.format(200))\n",
    "low_length = movie_data_frame.query('runtime < {}'.format(100))\n",
    "high_length = movie_data_frame.query('runtime > {}'.format(200))"
   ]
  },
  {
   "cell_type": "code",
   "execution_count": 21,
   "metadata": {},
   "outputs": [],
   "source": [
    "# chek the mean population with respect to the length of the movie\n",
    "mean_population_low_length = low_length['popularity'].mean()\n",
    "mean_population_median_length = median_length['popularity'].mean()\n",
    "mean_population_high_length = high_length['popularity'].mean()"
   ]
  },
  {
   "cell_type": "code",
   "execution_count": 22,
   "metadata": {},
   "outputs": [
    {
     "data": {
      "text/plain": [
       "Text(0, 0.5, 'Average Popularity')"
      ]
     },
     "execution_count": 22,
     "metadata": {},
     "output_type": "execute_result"
    },
    {
     "data": {
      "image/png": "[encoded data removed]",
      "text/plain": [
       "<Figure size 432x288 with 1 Axes>"
      ]
     },
     "metadata": {
      "needs_background": "light"
     },
     "output_type": "display_data"
    }
   ],
   "source": [
    "#create a chat bar\n",
    "locations = [1,2,3]\n",
    "heights = [mean_population_low_length,mean_population_median_length, mean_population_high_length]\n",
    "labels = ['low','median','high']\n",
    "plt.bar(locations,heights, tick_label=labels)\n",
    "plt.title('Average Popularity by Different Budget')\n",
    "plt.xlabel('Budgets')\n",
    "plt.ylabel('Average Popularity')"
   ]
  },
  {
   "cell_type": "markdown",
   "metadata": {},
   "source": [
    "#### `Conclution`\n",
    "- Medium length movie had high populaity"
   ]
  },
  {
   "cell_type": "markdown",
   "metadata": {},
   "source": [
    "#### Another approach using scatter diagram"
   ]
  },
  {
   "cell_type": "code",
   "execution_count": 23,
   "metadata": {},
   "outputs": [
    {
     "data": {
      "text/plain": [
       "Text(0, 0.5, 'Popularity')"
      ]
     },
     "execution_count": 23,
     "metadata": {},
     "output_type": "execute_result"
    },
    {
     "data": {
      "image/png": "[encoded data removed]",
      "text/plain": [
       "<Figure size 432x288 with 1 Axes>"
      ]
     },
     "metadata": {
      "needs_background": "light"
     },
     "output_type": "display_data"
    }
   ],
   "source": [
    "x = movie_data_frame['runtime']\n",
    "y = movie_data_frame['popularity']\n",
    "plt.scatter(x,y)\n",
    "plt.title('Movie popularity based on movie length');\n",
    "plt.xlabel('Runtime')\n",
    "plt.ylabel('Popularity')"
   ]
  },
  {
   "cell_type": "markdown",
   "metadata": {},
   "source": [
    "### `Question 3`. Does higher populality means higher profits?"
   ]
  },
  {
   "cell_type": "code",
   "execution_count": 24,
   "metadata": {},
   "outputs": [],
   "source": [
    "# calculate the profit\n",
    "profit = movie_data_frame['revenue'] - movie_data_frame['budget']\n",
    "movie_data_frame['profit'] = profit"
   ]
  },
  {
   "cell_type": "code",
   "execution_count": 25,
   "metadata": {},
   "outputs": [
    {
     "data": {
      "image/png": "[encoded data removed]",
      "text/plain": [
       "<Figure size 432x288 with 1 Axes>"
      ]
     },
     "metadata": {
      "needs_background": "light"
     },
     "output_type": "display_data"
    }
   ],
   "source": [
    "#visualize using scatter diagram\n",
    "x = movie_data_frame['popularity']\n",
    "y = movie_data_frame['profit']\n",
    "plt.scatter(x,y)\n",
    "plt.title('Movie revenue based on popularity')\n",
    "plt.xlabel('popularity')\n",
    "plt.ylabel('profit');"
   ]
  },
  {
   "cell_type": "code",
   "execution_count": 26,
   "metadata": {},
   "outputs": [],
   "source": [
    "median_popularity = movie_data_frame['popularity'].median()\n",
    "low_popularity = movie_data_frame.query('popularity < {}'.format(median_popularity))\n",
    "high_popularity = movie_data_frame.query('popularity > {}'.format(median_popularity))"
   ]
  },
  {
   "cell_type": "code",
   "execution_count": 27,
   "metadata": {},
   "outputs": [],
   "source": [
    "# Find mean profit for low and high population\n",
    "mean_profit_of_low_population = low_popularity['profit'].mean()\n",
    "mean_profit_of_high_population = high_popularity['profit'].mean()"
   ]
  },
  {
   "cell_type": "code",
   "execution_count": 28,
   "metadata": {},
   "outputs": [
    {
     "data": {
      "text/plain": [
       "Text(0, 0.5, 'Profit')"
      ]
     },
     "execution_count": 28,
     "metadata": {},
     "output_type": "execute_result"
    },
    {
     "data": {
      "image/png": "[encoded data removed]",
      "text/plain": [
       "<Figure size 432x288 with 1 Axes>"
      ]
     },
     "metadata": {
      "needs_background": "light"
     },
     "output_type": "display_data"
    }
   ],
   "source": [
    "# visualize using chat bar\n",
    "locations = [1,2]\n",
    "heights = [mean_profit_of_low_population,mean_profit_of_high_population]\n",
    "labels = ['low','high']\n",
    "plt.bar(locations,heights, tick_label=labels)\n",
    "plt.title('Average Profit by Different popularity')\n",
    "plt.xlabel('Popularity')\n",
    "plt.ylabel('Profit')"
   ]
  },
  {
   "cell_type": "markdown",
   "metadata": {},
   "source": [
    "### Question 4 The feature associated with the top 10 revenue movies?\n",
    "**Solution approach**\n",
    "- *Order by revenue dec order*\n",
    "- *Select the top ten movies*"
   ]
  },
  {
   "cell_type": "code",
   "execution_count": 33,
   "metadata": {},
   "outputs": [
    {
     "data": {
      "image/png": "[encoded data removed]",
      "text/plain": [
       "<Figure size 864x864 with 12 Axes>"
      ]
     },
     "metadata": {
      "needs_background": "light"
     },
     "output_type": "display_data"
    }
   ],
   "source": [
    "top_10_revenue_movies = movie_data_frame.nlargest(10,'revenue')\n",
    "top_10_revenue_movies.hist(figsize=(12,12));"
   ]
  },
  {
   "cell_type": "markdown",
   "metadata": {},
   "source": [
    "***The top 10 revenues movies has some common characteristing including***\n",
    "- *the runtime ranges between 100-200*\n",
    "- *released between 1995-2015*"
   ]
  },
  {
   "cell_type": "markdown",
   "metadata": {},
   "source": [
    "### Question 5 Which genres are most popular from year to year?"
   ]
  },
  {
   "cell_type": "code",
   "execution_count": 35,
   "metadata": {
    "collapsed": true
   },
   "outputs": [
    {
     "data": {
      "text/plain": [
       "0       Action|Adventure|Science Fiction|Thriller\n",
       "1       Action|Adventure|Science Fiction|Thriller\n",
       "2              Adventure|Science Fiction|Thriller\n",
       "3        Action|Adventure|Science Fiction|Fantasy\n",
       "4                           Action|Crime|Thriller\n",
       "                          ...                    \n",
       "5009                      Adventure|Comedy|Family\n",
       "5010                                       Horror\n",
       "5011                  Action|Thriller|Crime|Drama\n",
       "5012                          Comedy|Drama|Family\n",
       "5013                                      missing\n",
       "Name: genres, Length: 5013, dtype: object"
      ]
     },
     "execution_count": 35,
     "metadata": {},
     "output_type": "execute_result"
    }
   ],
   "source": [
    "movie_data_frame['genres']"
   ]
  },
  {
   "cell_type": "code",
   "execution_count": 40,
   "metadata": {},
   "outputs": [],
   "source": [
    "# create function to extract all genres and return the count value of each genre\n",
    "def extract_data(column_name):\n",
    "    extracted_data = movie_data_frame[column_name].str.cat(sep = '|')\n",
    "    # split the genres by |\n",
    "    extracted_data = pd.Series(extracted_data.split('|'))   \n",
    "    # Count the occurrence of each genre \n",
    "    #value count and didplay in descending order\n",
    "    genre_count = extracted_data.value_counts(ascending = False) \n",
    "    return genre_count"
   ]
  },
  {
   "cell_type": "code",
   "execution_count": 46,
   "metadata": {},
   "outputs": [
    {
     "data": {
      "image/png": "[encoded data removed]",
      "text/plain": [
       "<Figure size 1656x648 with 1 Axes>"
      ]
     },
     "metadata": {
      "needs_background": "light"
     },
     "output_type": "display_data"
    }
   ],
   "source": [
    "genre_count =  extract_data('genres')\n",
    "genre_count_df = pd.DataFrame({'genres':genre_count.index, 'genre_count':genre_count.values})\n",
    "\n",
    "f, ax = plt.subplots(figsize=(23, 9))\n",
    "# use the dataframe just created as the input data \n",
    "sns.barplot(x = 'genre_count', y = 'genres', data=genre_count_df) # how to get the data is the key \n",
    "ax.set_title(' occurences per genre ')\n",
    "ax.set_xlabel('occurrences')\n",
    "ax.set_ylabel('genres')\n",
    "plt.show()"
   ]
  },
  {
   "cell_type": "code",
   "execution_count": 42,
   "metadata": {
    "collapsed": true
   },
   "outputs": [
    {
     "data": {
      "text/html": [
       "<div>\n",
       "<style scoped>\n",
       "    .dataframe tbody tr th:only-of-type {\n",
       "        vertical-align: middle;\n",
       "    }\n",
       "\n",
       "    .dataframe tbody tr th {\n",
       "        vertical-align: top;\n",
       "    }\n",
       "\n",
       "    .dataframe thead th {\n",
       "        text-align: right;\n",
       "    }\n",
       "</style>\n",
       "<table border=\"1\" class=\"dataframe\">\n",
       "  <thead>\n",
       "    <tr style=\"text-align: right;\">\n",
       "      <th></th>\n",
       "      <th>popularity</th>\n",
       "      <th>budget</th>\n",
       "      <th>revenue</th>\n",
       "      <th>original_title</th>\n",
       "      <th>cast</th>\n",
       "      <th>director</th>\n",
       "      <th>tagline</th>\n",
       "      <th>keywords</th>\n",
       "      <th>runtime</th>\n",
       "      <th>genres</th>\n",
       "      <th>production_companies</th>\n",
       "      <th>release_date</th>\n",
       "      <th>vote_count</th>\n",
       "      <th>vote_average</th>\n",
       "      <th>release_year</th>\n",
       "      <th>budget_adj</th>\n",
       "      <th>revenue_adj</th>\n",
       "      <th>profit</th>\n",
       "    </tr>\n",
       "  </thead>\n",
       "  <tbody>\n",
       "    <tr>\n",
       "      <td>0</td>\n",
       "      <td>32.985763</td>\n",
       "      <td>150000000.0</td>\n",
       "      <td>1513528810</td>\n",
       "      <td>Jurassic World</td>\n",
       "      <td>Chris Pratt|Bryce Dallas Howard|Irrfan Khan|Vi...</td>\n",
       "      <td>Colin Trevorrow</td>\n",
       "      <td>The park is open.</td>\n",
       "      <td>monster|dna|tyrannosaurus rex|velociraptor|island</td>\n",
       "      <td>124.0</td>\n",
       "      <td>Action|Adventure|Science Fiction|Thriller</td>\n",
       "      <td>Universal Studios|Amblin Entertainment|Legenda...</td>\n",
       "      <td>6/9/15</td>\n",
       "      <td>5562.0</td>\n",
       "      <td>6.5</td>\n",
       "      <td>2015.0</td>\n",
       "      <td>1.379999e+08</td>\n",
       "      <td>1.392446e+09</td>\n",
       "      <td>1.363529e+09</td>\n",
       "    </tr>\n",
       "    <tr>\n",
       "      <td>1</td>\n",
       "      <td>28.419936</td>\n",
       "      <td>150000000.0</td>\n",
       "      <td>378436354</td>\n",
       "      <td>Mad Max: Fury Road</td>\n",
       "      <td>Tom Hardy|Charlize Theron|Hugh Keays-Byrne|Nic...</td>\n",
       "      <td>George Miller</td>\n",
       "      <td>What a Lovely Day.</td>\n",
       "      <td>future|chase|post-apocalyptic|dystopia|australia</td>\n",
       "      <td>120.0</td>\n",
       "      <td>Action|Adventure|Science Fiction|Thriller</td>\n",
       "      <td>Village Roadshow Pictures|Kennedy Miller Produ...</td>\n",
       "      <td>5/13/15</td>\n",
       "      <td>6185.0</td>\n",
       "      <td>7.1</td>\n",
       "      <td>2015.0</td>\n",
       "      <td>1.379999e+08</td>\n",
       "      <td>3.481613e+08</td>\n",
       "      <td>2.284364e+08</td>\n",
       "    </tr>\n",
       "    <tr>\n",
       "      <td>2</td>\n",
       "      <td>13.112507</td>\n",
       "      <td>110000000.0</td>\n",
       "      <td>295238201</td>\n",
       "      <td>Insurgent</td>\n",
       "      <td>Shailene Woodley|Theo James|Kate Winslet|Ansel...</td>\n",
       "      <td>Robert Schwentke</td>\n",
       "      <td>One Choice Can Destroy You</td>\n",
       "      <td>based on novel|revolution|dystopia|sequel|dyst...</td>\n",
       "      <td>119.0</td>\n",
       "      <td>Adventure|Science Fiction|Thriller</td>\n",
       "      <td>Summit Entertainment|Mandeville Films|Red Wago...</td>\n",
       "      <td>3/18/15</td>\n",
       "      <td>2480.0</td>\n",
       "      <td>6.3</td>\n",
       "      <td>2015.0</td>\n",
       "      <td>1.012000e+08</td>\n",
       "      <td>2.716190e+08</td>\n",
       "      <td>1.852382e+08</td>\n",
       "    </tr>\n",
       "    <tr>\n",
       "      <td>3</td>\n",
       "      <td>11.173104</td>\n",
       "      <td>200000000.0</td>\n",
       "      <td>2068178225</td>\n",
       "      <td>Star Wars: The Force Awakens</td>\n",
       "      <td>Harrison Ford|Mark Hamill|Carrie Fisher|Adam D...</td>\n",
       "      <td>J.J. Abrams</td>\n",
       "      <td>Every generation has a story.</td>\n",
       "      <td>android|spaceship|jedi|space opera|3d</td>\n",
       "      <td>136.0</td>\n",
       "      <td>Action|Adventure|Science Fiction|Fantasy</td>\n",
       "      <td>Lucasfilm|Truenorth Productions|Bad Robot</td>\n",
       "      <td>12/15/15</td>\n",
       "      <td>5292.0</td>\n",
       "      <td>7.5</td>\n",
       "      <td>2015.0</td>\n",
       "      <td>1.839999e+08</td>\n",
       "      <td>1.902723e+09</td>\n",
       "      <td>1.868178e+09</td>\n",
       "    </tr>\n",
       "    <tr>\n",
       "      <td>4</td>\n",
       "      <td>9.335014</td>\n",
       "      <td>190000000.0</td>\n",
       "      <td>1506249360</td>\n",
       "      <td>Furious 7</td>\n",
       "      <td>Vin Diesel|Paul Walker|Jason Statham|Michelle ...</td>\n",
       "      <td>James Wan</td>\n",
       "      <td>Vengeance Hits Home</td>\n",
       "      <td>car race|speed|revenge|suspense|car</td>\n",
       "      <td>137.0</td>\n",
       "      <td>Action|Crime|Thriller</td>\n",
       "      <td>Universal Pictures|Original Film|Media Rights ...</td>\n",
       "      <td>4/1/15</td>\n",
       "      <td>2947.0</td>\n",
       "      <td>7.3</td>\n",
       "      <td>2015.0</td>\n",
       "      <td>1.747999e+08</td>\n",
       "      <td>1.385749e+09</td>\n",
       "      <td>1.316249e+09</td>\n",
       "    </tr>\n",
       "  </tbody>\n",
       "</table>\n",
       "</div>"
      ],
      "text/plain": [
       "   popularity       budget     revenue                original_title  \\\n",
       "0   32.985763  150000000.0  1513528810                Jurassic World   \n",
       "1   28.419936  150000000.0   378436354            Mad Max: Fury Road   \n",
       "2   13.112507  110000000.0   295238201                     Insurgent   \n",
       "3   11.173104  200000000.0  2068178225  Star Wars: The Force Awakens   \n",
       "4    9.335014  190000000.0  1506249360                     Furious 7   \n",
       "\n",
       "                                                cast          director  \\\n",
       "0  Chris Pratt|Bryce Dallas Howard|Irrfan Khan|Vi...   Colin Trevorrow   \n",
       "1  Tom Hardy|Charlize Theron|Hugh Keays-Byrne|Nic...     George Miller   \n",
       "2  Shailene Woodley|Theo James|Kate Winslet|Ansel...  Robert Schwentke   \n",
       "3  Harrison Ford|Mark Hamill|Carrie Fisher|Adam D...       J.J. Abrams   \n",
       "4  Vin Diesel|Paul Walker|Jason Statham|Michelle ...         James Wan   \n",
       "\n",
       "                         tagline  \\\n",
       "0              The park is open.   \n",
       "1             What a Lovely Day.   \n",
       "2     One Choice Can Destroy You   \n",
       "3  Every generation has a story.   \n",
       "4            Vengeance Hits Home   \n",
       "\n",
       "                                            keywords  runtime  \\\n",
       "0  monster|dna|tyrannosaurus rex|velociraptor|island    124.0   \n",
       "1   future|chase|post-apocalyptic|dystopia|australia    120.0   \n",
       "2  based on novel|revolution|dystopia|sequel|dyst...    119.0   \n",
       "3              android|spaceship|jedi|space opera|3d    136.0   \n",
       "4                car race|speed|revenge|suspense|car    137.0   \n",
       "\n",
       "                                      genres  \\\n",
       "0  Action|Adventure|Science Fiction|Thriller   \n",
       "1  Action|Adventure|Science Fiction|Thriller   \n",
       "2         Adventure|Science Fiction|Thriller   \n",
       "3   Action|Adventure|Science Fiction|Fantasy   \n",
       "4                      Action|Crime|Thriller   \n",
       "\n",
       "                                production_companies release_date  vote_count  \\\n",
       "0  Universal Studios|Amblin Entertainment|Legenda...       6/9/15      5562.0   \n",
       "1  Village Roadshow Pictures|Kennedy Miller Produ...      5/13/15      6185.0   \n",
       "2  Summit Entertainment|Mandeville Films|Red Wago...      3/18/15      2480.0   \n",
       "3          Lucasfilm|Truenorth Productions|Bad Robot     12/15/15      5292.0   \n",
       "4  Universal Pictures|Original Film|Media Rights ...       4/1/15      2947.0   \n",
       "\n",
       "   vote_average  release_year    budget_adj   revenue_adj        profit  \n",
       "0           6.5        2015.0  1.379999e+08  1.392446e+09  1.363529e+09  \n",
       "1           7.1        2015.0  1.379999e+08  3.481613e+08  2.284364e+08  \n",
       "2           6.3        2015.0  1.012000e+08  2.716190e+08  1.852382e+08  \n",
       "3           7.5        2015.0  1.839999e+08  1.902723e+09  1.868178e+09  \n",
       "4           7.3        2015.0  1.747999e+08  1.385749e+09  1.316249e+09  "
      ]
     },
     "execution_count": 42,
     "metadata": {},
     "output_type": "execute_result"
    }
   ],
   "source": []
  },
  {
   "cell_type": "code",
   "execution_count": null,
   "metadata": {},
   "outputs": [],
   "source": []
  }
 ],
 "metadata": {
  "kernelspec": {
   "display_name": "Python 3",
   "language": "python",
   "name": "python3"
  },
  "language_info": {
   "codemirror_mode": {
    "name": "ipython",
    "version": 3
   },
   "file_extension": ".py",
   "mimetype": "text/x-python",
   "name": "python",
   "nbconvert_exporter": "python",
   "pygments_lexer": "ipython3",
   "version": "3.7.4"
  }
 },
 "nbformat": 4,
 "nbformat_minor": 2
}
